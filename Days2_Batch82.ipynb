{
 "cells": [
  {
   "cell_type": "code",
   "execution_count": 2,
   "id": "25b36a20",
   "metadata": {},
   "outputs": [],
   "source": [
    "# Introduction to Python Programming :"
   ]
  },
  {
   "cell_type": "code",
   "execution_count": null,
   "id": "da2a146e",
   "metadata": {},
   "outputs": [],
   "source": []
  },
  {
   "cell_type": "code",
   "execution_count": null,
   "id": "7bfd472e",
   "metadata": {},
   "outputs": [],
   "source": [
    "UnderStanding the variable in python :"
   ]
  },
  {
   "cell_type": "code",
   "execution_count": null,
   "id": "76a75194",
   "metadata": {},
   "outputs": [],
   "source": []
  },
  {
   "cell_type": "code",
   "execution_count": 4,
   "id": "ce4119f9",
   "metadata": {},
   "outputs": [],
   "source": [
    "x = 2\n",
    "y = 3"
   ]
  },
  {
   "cell_type": "code",
   "execution_count": 5,
   "id": "f0e53ee4",
   "metadata": {},
   "outputs": [
    {
     "name": "stdout",
     "output_type": "stream",
     "text": [
      "5\n"
     ]
    }
   ],
   "source": [
    "z = x + y\n",
    "print(z)"
   ]
  },
  {
   "cell_type": "code",
   "execution_count": null,
   "id": "9d2b7951",
   "metadata": {},
   "outputs": [],
   "source": []
  },
  {
   "cell_type": "code",
   "execution_count": null,
   "id": "473e640e",
   "metadata": {},
   "outputs": [],
   "source": [
    "Rules for declaring the variables :"
   ]
  },
  {
   "cell_type": "code",
   "execution_count": null,
   "id": "5cebcfe4",
   "metadata": {},
   "outputs": [],
   "source": [
    "Rule No - 1 : No namespaces while declaring the variable name"
   ]
  },
  {
   "cell_type": "code",
   "execution_count": 6,
   "id": "93783ea6",
   "metadata": {},
   "outputs": [
    {
     "ename": "SyntaxError",
     "evalue": "invalid syntax (4000598918.py, line 1)",
     "output_type": "error",
     "traceback": [
      "\u001b[1;36m  Cell \u001b[1;32mIn[6], line 1\u001b[1;36m\u001b[0m\n\u001b[1;33m    first name = 'Praveen'\u001b[0m\n\u001b[1;37m          ^\u001b[0m\n\u001b[1;31mSyntaxError\u001b[0m\u001b[1;31m:\u001b[0m invalid syntax\n"
     ]
    }
   ],
   "source": [
    "first name = 'Praveen'\n",
    "print(first name)"
   ]
  },
  {
   "cell_type": "code",
   "execution_count": 7,
   "id": "26f095bb",
   "metadata": {},
   "outputs": [
    {
     "name": "stdout",
     "output_type": "stream",
     "text": [
      "Praveen\n"
     ]
    }
   ],
   "source": [
    "firstname = 'Praveen'\n",
    "print(firstname)"
   ]
  },
  {
   "cell_type": "code",
   "execution_count": null,
   "id": "9d94323d",
   "metadata": {},
   "outputs": [],
   "source": []
  },
  {
   "cell_type": "code",
   "execution_count": null,
   "id": "694a9096",
   "metadata": {},
   "outputs": [],
   "source": [
    "Rule N0 - 2 : A variable name should not start with a number **"
   ]
  },
  {
   "cell_type": "code",
   "execution_count": 8,
   "id": "24178384",
   "metadata": {},
   "outputs": [
    {
     "ename": "SyntaxError",
     "evalue": "invalid decimal literal (4065685884.py, line 1)",
     "output_type": "error",
     "traceback": [
      "\u001b[1;36m  Cell \u001b[1;32mIn[8], line 1\u001b[1;36m\u001b[0m\n\u001b[1;33m    1name = 'Rohit'\u001b[0m\n\u001b[1;37m    ^\u001b[0m\n\u001b[1;31mSyntaxError\u001b[0m\u001b[1;31m:\u001b[0m invalid decimal literal\n"
     ]
    }
   ],
   "source": [
    "1name = 'Rohit'\n",
    "print(1name)"
   ]
  },
  {
   "cell_type": "code",
   "execution_count": 9,
   "id": "e68796a3",
   "metadata": {},
   "outputs": [
    {
     "name": "stdout",
     "output_type": "stream",
     "text": [
      "Rohit\n"
     ]
    }
   ],
   "source": [
    "name1 = 'Rohit'\n",
    "print(name1)"
   ]
  },
  {
   "cell_type": "code",
   "execution_count": null,
   "id": "a4b1eaca",
   "metadata": {},
   "outputs": [],
   "source": []
  },
  {
   "cell_type": "code",
   "execution_count": null,
   "id": "f890f56d",
   "metadata": {},
   "outputs": [],
   "source": [
    "Rule N0 - 3 : A variable name should not contain any special characters"
   ]
  },
  {
   "cell_type": "code",
   "execution_count": null,
   "id": "571b6499",
   "metadata": {},
   "outputs": [],
   "source": [
    "! @ # $ "
   ]
  },
  {
   "cell_type": "code",
   "execution_count": 10,
   "id": "f160752c",
   "metadata": {},
   "outputs": [
    {
     "ename": "SyntaxError",
     "evalue": "invalid syntax (2881954660.py, line 1)",
     "output_type": "error",
     "traceback": [
      "\u001b[1;36m  Cell \u001b[1;32mIn[10], line 1\u001b[1;36m\u001b[0m\n\u001b[1;33m    name@ = 'Bhupendra'\u001b[0m\n\u001b[1;37m          ^\u001b[0m\n\u001b[1;31mSyntaxError\u001b[0m\u001b[1;31m:\u001b[0m invalid syntax\n"
     ]
    }
   ],
   "source": [
    "name@ = 'Bhupendra'\n",
    "print(name@)"
   ]
  },
  {
   "cell_type": "code",
   "execution_count": null,
   "id": "0f9c185d",
   "metadata": {},
   "outputs": [],
   "source": []
  },
  {
   "cell_type": "code",
   "execution_count": null,
   "id": "657d7d6b",
   "metadata": {},
   "outputs": [],
   "source": [
    "Introduction to Datatypes :\n",
    "    \n",
    "    1. String ========> str\n",
    "    \n",
    "    2. Number =======> integer ----> int, floats(Decimals) ========> 0.1, 0.3 ====> float\n",
    "    \n",
    "    3.Lists =======> list\n",
    "    \n",
    "    4. tuples ========> tuple\n",
    "    \n",
    "    5. Dictionaries ========> dict\n",
    "    "
   ]
  },
  {
   "cell_type": "code",
   "execution_count": null,
   "id": "08bca8cb",
   "metadata": {},
   "outputs": [],
   "source": []
  },
  {
   "cell_type": "code",
   "execution_count": null,
   "id": "943f092e",
   "metadata": {},
   "outputs": [],
   "source": [
    "Classification of Datatypes :\n",
    "    \n",
    "    Broadly data type are classified in two different categeroies\n",
    "    \n",
    "    1. Mutable datatypes ========> Which we can able to edit / alter ====> flexible in nature\n",
    "    \n",
    "    2. Immutable datatypes ========> Which we cannot able edit / alter =====> fixed in nature"
   ]
  },
  {
   "cell_type": "code",
   "execution_count": null,
   "id": "641e1147",
   "metadata": {},
   "outputs": [],
   "source": []
  },
  {
   "cell_type": "code",
   "execution_count": null,
   "id": "5609e002",
   "metadata": {},
   "outputs": [],
   "source": [
    "Introduction to string datatypes :\n",
    "    \n",
    "    Defination : A string is nothing but a series of characters declared in quotes.\n",
    "        \n",
    "    classification : It is an immutable datatype\n",
    "        \n",
    "    1. single quote\n",
    "    \n",
    "    2. double quote"
   ]
  },
  {
   "cell_type": "code",
   "execution_count": null,
   "id": "701fb3fd",
   "metadata": {},
   "outputs": [],
   "source": []
  },
  {
   "cell_type": "code",
   "execution_count": 12,
   "id": "c49c0746",
   "metadata": {},
   "outputs": [
    {
     "name": "stdout",
     "output_type": "stream",
     "text": [
      "praveen\n"
     ]
    }
   ],
   "source": [
    "a = 'praveen'  # single quote\n",
    "\n",
    "print(a)"
   ]
  },
  {
   "cell_type": "code",
   "execution_count": 13,
   "id": "6edde4f8",
   "metadata": {},
   "outputs": [
    {
     "name": "stdout",
     "output_type": "stream",
     "text": [
      "Raja\n"
     ]
    }
   ],
   "source": [
    "b = \"Raja\"  # single quote\n",
    "\n",
    "print(b)"
   ]
  },
  {
   "cell_type": "code",
   "execution_count": null,
   "id": "82bcf045",
   "metadata": {},
   "outputs": [],
   "source": []
  },
  {
   "cell_type": "code",
   "execution_count": null,
   "id": "a87536ee",
   "metadata": {},
   "outputs": [],
   "source": [
    "# is used for commenting the lines."
   ]
  },
  {
   "cell_type": "code",
   "execution_count": null,
   "id": "9e78363a",
   "metadata": {},
   "outputs": [],
   "source": []
  }
 ],
 "metadata": {
  "kernelspec": {
   "display_name": "Python 3 (ipykernel)",
   "language": "python",
   "name": "python3"
  },
  "language_info": {
   "codemirror_mode": {
    "name": "ipython",
    "version": 3
   },
   "file_extension": ".py",
   "mimetype": "text/x-python",
   "name": "python",
   "nbconvert_exporter": "python",
   "pygments_lexer": "ipython3",
   "version": "3.11.4"
  }
 },
 "nbformat": 4,
 "nbformat_minor": 5
}
